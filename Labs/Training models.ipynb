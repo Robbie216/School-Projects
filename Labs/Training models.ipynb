{
 "cells": [
  {
   "cell_type": "markdown",
   "metadata": {},
   "source": [
    "# Python Lab 1: Sentiment Identification\n"
   ]
  },
  {
   "cell_type": "markdown",
   "metadata": {},
   "source": [
    "# Student Name:"
   ]
  },
  {
   "cell_type": "markdown",
   "metadata": {},
   "source": [
    "# Table of Contents\n",
    "1. Background\n",
    "2. Goal\n",
    "3. Source Data\n",
    "4. Applied Methodology \n",
    "5. Assignment Guidelines\n",
    "6. Conclusions and Recommendations"
   ]
  },
  {
   "cell_type": "markdown",
   "metadata": {},
   "source": [
    "# 1. Background\n",
    "A large multinational corporation is seeking to automatically identify the sentiment that their customer base talks about on social media. They would like to expand this capability into multiple languages. Many 3rd party tools exist for sentiment analysis, however, they need help with under-resourced languages."
   ]
  },
  {
   "cell_type": "markdown",
   "metadata": {},
   "source": [
    "# 2. Goal\n",
    "Train a sentiment classifier (Positive, Negative, Neutral) on a corpus of the provided documents.\n",
    "Here are the goals:\n",
    "\n",
    "    a. Maximize Accuracy\n",
    "    b. Accurately detect negative sentiment\n",
    "    \n"
   ]
  },
  {
   "cell_type": "markdown",
   "metadata": {},
   "source": [
    "# 3. Source Data\n",
    "Dataset will be imported from the following link.\n",
    "\n",
    "• Link: http://archive.ics.uci.edu/ml/datasets/Roman+Urdu+Data+Set"
   ]
  },
  {
   "cell_type": "markdown",
   "metadata": {},
   "source": [
    "# 4. Applied Methodology\n",
    "\n",
    "There following are the approached methodology used to mined the dataset to meet the business goal.\n",
    "\n",
    "    a.\tData Summary\n",
    "    b.\tData Cleansing \n",
    "    c.\tData Wrangling\n",
    "    d.\tData Validation\n",
    "    e.\tData Visualization\n",
    "    f.\tBasic Text Mining \n",
    "    g.\tMultiple Models Application\n",
    "    \n",
    "Note: Outline 4b to 4e will be applied to each variable."
   ]
  },
  {
   "cell_type": "raw",
   "metadata": {},
   "source": [
    "4a. Data Summary"
   ]
  },
  {
   "cell_type": "code",
   "execution_count": 2,
   "metadata": {},
   "outputs": [],
   "source": [
    "import pandas as pd\n",
    "import numpy as np\n",
    "pd.options.mode.chained_assignment = None  # default='warn'\n"
   ]
  },
  {
   "cell_type": "code",
   "execution_count": 3,
   "metadata": {},
   "outputs": [
    {
     "data": {
      "text/html": [
       "<div>\n",
       "<style scoped>\n",
       "    .dataframe tbody tr th:only-of-type {\n",
       "        vertical-align: middle;\n",
       "    }\n",
       "\n",
       "    .dataframe tbody tr th {\n",
       "        vertical-align: top;\n",
       "    }\n",
       "\n",
       "    .dataframe thead th {\n",
       "        text-align: right;\n",
       "    }\n",
       "</style>\n",
       "<table border=\"1\" class=\"dataframe\">\n",
       "  <thead>\n",
       "    <tr style=\"text-align: right;\">\n",
       "      <th></th>\n",
       "      <th>Sai kha ya her kisi kay bus ki bat nhi hai lakin main ki hal kal bi Aj aur aj bi sirf Aus say bus</th>\n",
       "      <th>Positive</th>\n",
       "      <th>Unnamed: 2</th>\n",
       "    </tr>\n",
       "  </thead>\n",
       "  <tbody>\n",
       "    <tr>\n",
       "      <th>0</th>\n",
       "      <td>sahi bt h</td>\n",
       "      <td>Positive</td>\n",
       "      <td>NaN</td>\n",
       "    </tr>\n",
       "    <tr>\n",
       "      <th>1</th>\n",
       "      <td>Kya bt hai,</td>\n",
       "      <td>Positive</td>\n",
       "      <td>NaN</td>\n",
       "    </tr>\n",
       "  </tbody>\n",
       "</table>\n",
       "</div>"
      ],
      "text/plain": [
       "  Sai kha ya her kisi kay bus ki bat nhi hai lakin main ki hal kal bi Aj aur aj bi sirf Aus say bus  \\\n",
       "0                                          sahi bt h                                                  \n",
       "1                                        Kya bt hai,                                                  \n",
       "\n",
       "   Positive Unnamed: 2  \n",
       "0  Positive        NaN  \n",
       "1  Positive        NaN  "
      ]
     },
     "execution_count": 3,
     "metadata": {},
     "output_type": "execute_result"
    }
   ],
   "source": [
    "#Step 1: Import Data from Source Link\n",
    "data_link = 'http://archive.ics.uci.edu/ml/machine-learning-databases/00458/Roman%20Urdu%20DataSet.csv'\n",
    "Raw_Data = pd.read_csv(data_link)\n",
    "Raw_Data.head(2)"
   ]
  },
  {
   "cell_type": "code",
   "execution_count": 4,
   "metadata": {},
   "outputs": [
    {
     "data": {
      "text/html": [
       "<div>\n",
       "<style scoped>\n",
       "    .dataframe tbody tr th:only-of-type {\n",
       "        vertical-align: middle;\n",
       "    }\n",
       "\n",
       "    .dataframe tbody tr th {\n",
       "        vertical-align: top;\n",
       "    }\n",
       "\n",
       "    .dataframe thead th {\n",
       "        text-align: right;\n",
       "    }\n",
       "</style>\n",
       "<table border=\"1\" class=\"dataframe\">\n",
       "  <thead>\n",
       "    <tr style=\"text-align: right;\">\n",
       "      <th></th>\n",
       "      <th>Customer_Comment</th>\n",
       "      <th>Sentiment_Classifier</th>\n",
       "      <th>Flag</th>\n",
       "    </tr>\n",
       "  </thead>\n",
       "  <tbody>\n",
       "    <tr>\n",
       "      <th>0</th>\n",
       "      <td>Sai kha ya her kisi kay bus ki bat nhi hai lak...</td>\n",
       "      <td>Positive</td>\n",
       "      <td>NaN</td>\n",
       "    </tr>\n",
       "    <tr>\n",
       "      <th>1</th>\n",
       "      <td>sahi bt h</td>\n",
       "      <td>Positive</td>\n",
       "      <td>NaN</td>\n",
       "    </tr>\n",
       "  </tbody>\n",
       "</table>\n",
       "</div>"
      ],
      "text/plain": [
       "                                    Customer_Comment Sentiment_Classifier Flag\n",
       "0  Sai kha ya her kisi kay bus ki bat nhi hai lak...             Positive  NaN\n",
       "1                                          sahi bt h             Positive  NaN"
      ]
     },
     "execution_count": 4,
     "metadata": {},
     "output_type": "execute_result"
    }
   ],
   "source": [
    "# Step 2: Add variable names becuase raw data was missing variable names.\n",
    "Raw_Data = pd.read_csv(data_link , names=[\"Customer_Comment\", \"Sentiment_Classifier\", \"Flag\"])\n",
    "Raw_Data.head(2)"
   ]
  },
  {
   "cell_type": "markdown",
   "metadata": {},
   "source": [
    "# Apply Outline 4b to 4e to each field."
   ]
  },
  {
   "cell_type": "markdown",
   "metadata": {},
   "source": [
    "# Step 4b-4e (i): Flag Field"
   ]
  },
  {
   "cell_type": "code",
   "execution_count": 5,
   "metadata": {},
   "outputs": [
    {
     "data": {
      "text/plain": [
       "Flag\n",
       "------              1\n",
       "-------             1\n",
       "----------          1\n",
       "----------------    1\n",
       "9090                1\n",
       "till here           2\n",
       "Name: Flag, dtype: int64"
      ]
     },
     "execution_count": 5,
     "metadata": {},
     "output_type": "execute_result"
    }
   ],
   "source": [
    "Raw_Data.groupby(\"Flag\")[\"Flag\"].count()"
   ]
  },
  {
   "cell_type": "code",
   "execution_count": 6,
   "metadata": {},
   "outputs": [
    {
     "data": {
      "text/html": [
       "<div>\n",
       "<style scoped>\n",
       "    .dataframe tbody tr th:only-of-type {\n",
       "        vertical-align: middle;\n",
       "    }\n",
       "\n",
       "    .dataframe tbody tr th {\n",
       "        vertical-align: top;\n",
       "    }\n",
       "\n",
       "    .dataframe thead th {\n",
       "        text-align: right;\n",
       "    }\n",
       "</style>\n",
       "<table border=\"1\" class=\"dataframe\">\n",
       "  <thead>\n",
       "    <tr style=\"text-align: right;\">\n",
       "      <th></th>\n",
       "      <th>Customer_Comment</th>\n",
       "      <th>Sentiment_Classifier</th>\n",
       "    </tr>\n",
       "  </thead>\n",
       "  <tbody>\n",
       "    <tr>\n",
       "      <th>0</th>\n",
       "      <td>Sai kha ya her kisi kay bus ki bat nhi hai lak...</td>\n",
       "      <td>Positive</td>\n",
       "    </tr>\n",
       "    <tr>\n",
       "      <th>1</th>\n",
       "      <td>sahi bt h</td>\n",
       "      <td>Positive</td>\n",
       "    </tr>\n",
       "  </tbody>\n",
       "</table>\n",
       "</div>"
      ],
      "text/plain": [
       "                                    Customer_Comment Sentiment_Classifier\n",
       "0  Sai kha ya her kisi kay bus ki bat nhi hai lak...             Positive\n",
       "1                                          sahi bt h             Positive"
      ]
     },
     "execution_count": 6,
     "metadata": {},
     "output_type": "execute_result"
    }
   ],
   "source": [
    "## Removed Flag field, looks like it is an extraneous variable as per the business objective.\n",
    "Raw_Data_1 = Raw_Data[[\"Customer_Comment\", \"Sentiment_Classifier\"]]\n",
    "Raw_Data_1.head(2)"
   ]
  },
  {
   "cell_type": "markdown",
   "metadata": {},
   "source": [
    "# Step 4b-4e (ii): Sentiment_Classifier field"
   ]
  },
  {
   "cell_type": "code",
   "execution_count": 7,
   "metadata": {},
   "outputs": [
    {
     "data": {
      "text/plain": [
       "Sentiment_Classifier\n",
       "Neative        1\n",
       "Negative    5286\n",
       "Neutral     8929\n",
       "Positive    6013\n",
       "Name: Sentiment_Classifier, dtype: int64"
      ]
     },
     "execution_count": 7,
     "metadata": {},
     "output_type": "execute_result"
    }
   ],
   "source": [
    "Raw_Data_1.groupby(\"Sentiment_Classifier\")[\"Sentiment_Classifier\"].count()"
   ]
  },
  {
   "cell_type": "code",
   "execution_count": 8,
   "metadata": {},
   "outputs": [
    {
     "data": {
      "text/html": [
       "<div>\n",
       "<style scoped>\n",
       "    .dataframe tbody tr th:only-of-type {\n",
       "        vertical-align: middle;\n",
       "    }\n",
       "\n",
       "    .dataframe tbody tr th {\n",
       "        vertical-align: top;\n",
       "    }\n",
       "\n",
       "    .dataframe thead th {\n",
       "        text-align: right;\n",
       "    }\n",
       "</style>\n",
       "<table border=\"1\" class=\"dataframe\">\n",
       "  <thead>\n",
       "    <tr style=\"text-align: right;\">\n",
       "      <th></th>\n",
       "      <th>Customer_Comment</th>\n",
       "      <th>Sentiment_Classifier</th>\n",
       "    </tr>\n",
       "  </thead>\n",
       "  <tbody>\n",
       "    <tr>\n",
       "      <th>0</th>\n",
       "      <td>Sai kha ya her kisi kay bus ki bat nhi hai lak...</td>\n",
       "      <td>Positive</td>\n",
       "    </tr>\n",
       "    <tr>\n",
       "      <th>1</th>\n",
       "      <td>sahi bt h</td>\n",
       "      <td>Positive</td>\n",
       "    </tr>\n",
       "  </tbody>\n",
       "</table>\n",
       "</div>"
      ],
      "text/plain": [
       "                                    Customer_Comment Sentiment_Classifier\n",
       "0  Sai kha ya her kisi kay bus ki bat nhi hai lak...             Positive\n",
       "1                                          sahi bt h             Positive"
      ]
     },
     "execution_count": 8,
     "metadata": {},
     "output_type": "execute_result"
    }
   ],
   "source": [
    "Raw_Data_1['Sentiment_Classifier'] = Raw_Data_1['Sentiment_Classifier'].replace('Neative', 'Negative')\n",
    "Raw_Data_1.head(2)"
   ]
  },
  {
   "cell_type": "code",
   "execution_count": 9,
   "metadata": {},
   "outputs": [
    {
     "data": {
      "text/plain": [
       "Sentiment_Classifier\n",
       "Negative    5287\n",
       "Neutral     8929\n",
       "Positive    6013\n",
       "Name: Sentiment_Classifier, dtype: int64"
      ]
     },
     "execution_count": 9,
     "metadata": {},
     "output_type": "execute_result"
    }
   ],
   "source": [
    "# Validate Data\n",
    "Raw_Data_1.groupby(\"Sentiment_Classifier\")[\"Sentiment_Classifier\"].count()"
   ]
  },
  {
   "cell_type": "code",
   "execution_count": 10,
   "metadata": {},
   "outputs": [
    {
     "data": {
      "text/plain": [
       "<matplotlib.axes._subplots.AxesSubplot at 0x2110806ea00>"
      ]
     },
     "execution_count": 10,
     "metadata": {},
     "output_type": "execute_result"
    },
    {
     "data": {
      "image/png": "[encoded data removed]",
      "text/plain": [
       "<Figure size 432x288 with 1 Axes>"
      ]
     },
     "metadata": {
      "needs_background": "light"
     },
     "output_type": "display_data"
    }
   ],
   "source": [
    "# Visualize Data\n",
    "import matplotlib.pyplot as plt\n",
    "Raw_Data_1['Sentiment_Classifier'].value_counts().plot(kind='bar' ,color=['blue', 'green', 'red'])\n"
   ]
  },
  {
   "cell_type": "markdown",
   "metadata": {},
   "source": [
    "# Step 4b-4e (ii): Customer_Comment field"
   ]
  },
  {
   "cell_type": "code",
   "execution_count": 11,
   "metadata": {},
   "outputs": [
    {
     "name": "stdout",
     "output_type": "stream",
     "text": [
      "Customer_Comment        1\n",
      "Sentiment_Classifier    0\n",
      "dtype: int64\n"
     ]
    }
   ],
   "source": [
    "# Confirm if there is missing Data\n",
    "print(Raw_Data_1.isnull().sum())"
   ]
  },
  {
   "cell_type": "code",
   "execution_count": 12,
   "metadata": {},
   "outputs": [
    {
     "data": {
      "text/html": [
       "<div>\n",
       "<style scoped>\n",
       "    .dataframe tbody tr th:only-of-type {\n",
       "        vertical-align: middle;\n",
       "    }\n",
       "\n",
       "    .dataframe tbody tr th {\n",
       "        vertical-align: top;\n",
       "    }\n",
       "\n",
       "    .dataframe thead th {\n",
       "        text-align: right;\n",
       "    }\n",
       "</style>\n",
       "<table border=\"1\" class=\"dataframe\">\n",
       "  <thead>\n",
       "    <tr style=\"text-align: right;\">\n",
       "      <th></th>\n",
       "      <th>Customer_Comment</th>\n",
       "      <th>Sentiment_Classifier</th>\n",
       "    </tr>\n",
       "  </thead>\n",
       "  <tbody>\n",
       "    <tr>\n",
       "      <th>0</th>\n",
       "      <td>Sai kha ya her kisi kay bus ki bat nhi hai lak...</td>\n",
       "      <td>Positive</td>\n",
       "    </tr>\n",
       "    <tr>\n",
       "      <th>1</th>\n",
       "      <td>sahi bt h</td>\n",
       "      <td>Positive</td>\n",
       "    </tr>\n",
       "    <tr>\n",
       "      <th>2</th>\n",
       "      <td>Kya bt hai,</td>\n",
       "      <td>Positive</td>\n",
       "    </tr>\n",
       "    <tr>\n",
       "      <th>3</th>\n",
       "      <td>Wah je wah</td>\n",
       "      <td>Positive</td>\n",
       "    </tr>\n",
       "    <tr>\n",
       "      <th>4</th>\n",
       "      <td>Are wha kaya bat hai</td>\n",
       "      <td>Positive</td>\n",
       "    </tr>\n",
       "  </tbody>\n",
       "</table>\n",
       "</div>"
      ],
      "text/plain": [
       "                                    Customer_Comment Sentiment_Classifier\n",
       "0  Sai kha ya her kisi kay bus ki bat nhi hai lak...             Positive\n",
       "1                                          sahi bt h             Positive\n",
       "2                                        Kya bt hai,             Positive\n",
       "3                                         Wah je wah             Positive\n",
       "4                               Are wha kaya bat hai             Positive"
      ]
     },
     "execution_count": 12,
     "metadata": {},
     "output_type": "execute_result"
    }
   ],
   "source": [
    "##This shows that there is at least one within Customer_Comment field, so let remove them.\n",
    "Raw_Data_2 = Raw_Data_1[pd.notnull(Raw_Data_1[\"Customer_Comment\"])]\n",
    "Raw_Data_2.head()\n"
   ]
  },
  {
   "cell_type": "code",
   "execution_count": 13,
   "metadata": {},
   "outputs": [
    {
     "name": "stdout",
     "output_type": "stream",
     "text": [
      "Customer_Comment        0\n",
      "Sentiment_Classifier    0\n",
      "dtype: int64\n"
     ]
    }
   ],
   "source": [
    "# Confirm if there is missing Data\n",
    "print(Raw_Data_2.isnull().sum())"
   ]
  },
  {
   "cell_type": "code",
   "execution_count": 15,
   "metadata": {},
   "outputs": [],
   "source": [
    "# Convert data to lower case, trim leading and trailing white spaces."
   ]
  },
  {
   "cell_type": "code",
   "execution_count": 14,
   "metadata": {},
   "outputs": [
    {
     "data": {
      "text/html": [
       "<div>\n",
       "<style scoped>\n",
       "    .dataframe tbody tr th:only-of-type {\n",
       "        vertical-align: middle;\n",
       "    }\n",
       "\n",
       "    .dataframe tbody tr th {\n",
       "        vertical-align: top;\n",
       "    }\n",
       "\n",
       "    .dataframe thead th {\n",
       "        text-align: right;\n",
       "    }\n",
       "</style>\n",
       "<table border=\"1\" class=\"dataframe\">\n",
       "  <thead>\n",
       "    <tr style=\"text-align: right;\">\n",
       "      <th></th>\n",
       "      <th>Customer_Comment</th>\n",
       "      <th>Sentiment_Classifier</th>\n",
       "    </tr>\n",
       "  </thead>\n",
       "  <tbody>\n",
       "    <tr>\n",
       "      <th>0</th>\n",
       "      <td>sai kha ya her kisi kay bus ki bat nhi hai lak...</td>\n",
       "      <td>Positive</td>\n",
       "    </tr>\n",
       "    <tr>\n",
       "      <th>1</th>\n",
       "      <td>sahi bt h</td>\n",
       "      <td>Positive</td>\n",
       "    </tr>\n",
       "  </tbody>\n",
       "</table>\n",
       "</div>"
      ],
      "text/plain": [
       "                                    Customer_Comment Sentiment_Classifier\n",
       "0  sai kha ya her kisi kay bus ki bat nhi hai lak...             Positive\n",
       "1                                          sahi bt h             Positive"
      ]
     },
     "execution_count": 14,
     "metadata": {},
     "output_type": "execute_result"
    }
   ],
   "source": [
    "# lower case\n",
    "Raw_Data_2['Customer_Comment'] = Raw_Data_2['Customer_Comment'].str.lower()\n",
    "Raw_Data_2.head(2)"
   ]
  },
  {
   "cell_type": "code",
   "execution_count": 15,
   "metadata": {},
   "outputs": [
    {
     "data": {
      "text/html": [
       "<div>\n",
       "<style scoped>\n",
       "    .dataframe tbody tr th:only-of-type {\n",
       "        vertical-align: middle;\n",
       "    }\n",
       "\n",
       "    .dataframe tbody tr th {\n",
       "        vertical-align: top;\n",
       "    }\n",
       "\n",
       "    .dataframe thead th {\n",
       "        text-align: right;\n",
       "    }\n",
       "</style>\n",
       "<table border=\"1\" class=\"dataframe\">\n",
       "  <thead>\n",
       "    <tr style=\"text-align: right;\">\n",
       "      <th></th>\n",
       "      <th>Customer_Comment</th>\n",
       "      <th>Sentiment_Classifier</th>\n",
       "    </tr>\n",
       "  </thead>\n",
       "  <tbody>\n",
       "    <tr>\n",
       "      <th>0</th>\n",
       "      <td>sai kha ya her kisi kay bus ki bat nhi hai lak...</td>\n",
       "      <td>Positive</td>\n",
       "    </tr>\n",
       "    <tr>\n",
       "      <th>1</th>\n",
       "      <td>sahi bt h</td>\n",
       "      <td>Positive</td>\n",
       "    </tr>\n",
       "  </tbody>\n",
       "</table>\n",
       "</div>"
      ],
      "text/plain": [
       "                                    Customer_Comment Sentiment_Classifier\n",
       "0  sai kha ya her kisi kay bus ki bat nhi hai lak...             Positive\n",
       "1                                          sahi bt h             Positive"
      ]
     },
     "execution_count": 15,
     "metadata": {},
     "output_type": "execute_result"
    }
   ],
   "source": [
    "#trim leading and trailing white spaces\n",
    "Raw_Data_2 = Raw_Data_2.applymap(lambda x: x.strip() if isinstance(x, str) else x)\n",
    "Raw_Data_2.head(2)"
   ]
  },
  {
   "cell_type": "code",
   "execution_count": 18,
   "metadata": {},
   "outputs": [],
   "source": [
    "# NOTE: I am going to stop working on the Customer_Comment field here, \n",
    "#       but there are other text mining approaches that could be performed on it.\n",
    "# Example is to create a token to remove stop words, or even visualize \n",
    "# the most popular words using the wordcloud package e.t.c.\n",
    "# Also consider the emojis within the field could be another thing to work on.\n",
    "# But I will skip all these, and just move to the step of preparing my dataset for the model.\n",
    "#*************************************************************************************\n",
    "####### PS: Stop words may be difficult here though since this language is not English \n",
    "#######     or any popular language that has been saved already on the stop words list."
   ]
  },
  {
   "cell_type": "markdown",
   "metadata": {},
   "source": [
    "# 4f. Basic Text Mining "
   ]
  },
  {
   "cell_type": "code",
   "execution_count": 16,
   "metadata": {},
   "outputs": [],
   "source": [
    "#Creating a corpus of the review text for initializing TF-IDF vectorizer\n",
    "from sklearn.feature_extraction.text import TfidfVectorizer\n",
    "import sklearn.metrics"
   ]
  },
  {
   "cell_type": "code",
   "execution_count": 17,
   "metadata": {},
   "outputs": [
    {
     "data": {
      "text/plain": [
       "0    sai kha ya her kisi kay bus ki bat nhi hai lak...\n",
       "1                                            sahi bt h\n",
       "Name: Customer_Comment, dtype: object"
      ]
     },
     "execution_count": 17,
     "metadata": {},
     "output_type": "execute_result"
    }
   ],
   "source": [
    "corpus=Raw_Data_2.Customer_Comment\n",
    "corpus.head(2)"
   ]
  },
  {
   "cell_type": "code",
   "execution_count": 18,
   "metadata": {},
   "outputs": [],
   "source": [
    "#Initialize TFIDF vectorizer to convert the raw corpus to a matrix of TFIDF features\n",
    "no_features = 22000\n",
    "vectorizer = TfidfVectorizer(max_df=0.70, min_df=0.0001, max_features=no_features,ngram_range=(1,3))"
   ]
  },
  {
   "cell_type": "code",
   "execution_count": 19,
   "metadata": {},
   "outputs": [],
   "source": [
    "#create TFIDF features sparse matrix by fitting it on the specified corpus\n",
    "tfidf_matrix=vectorizer.fit_transform(corpus).todense()\n",
    "tfidf_matrix.shape\n",
    "\n",
    "#**************************************************************#\n",
    "#*        To complete your assignment, make use of            *#\n",
    "#*               X =independent Variable                      *#\n",
    "#*               Y =dependent Variable                        *#\n",
    "#**************************************************************#\n",
    "#Let the TFIDF features be the independent variable \n",
    "X = tfidf_matrix\n",
    "#Let the Sentiment_Classifier field be the dependent variable\n",
    "Y = Raw_Data_2.Sentiment_Classifier\n"
   ]
  },
  {
   "cell_type": "markdown",
   "metadata": {},
   "source": [
    "Divide Model Data into two dataset, Train and Test Data\n",
    "•\tTrain Data: 80% \n",
    "•\tTest Data: 20%"
   ]
  },
  {
   "cell_type": "code",
   "execution_count": 20,
   "metadata": {},
   "outputs": [],
   "source": [
    "import sklearn.metrics\n",
    "from sklearn.model_selection import train_test_split\n",
    "x_train, x_test, y_train, y_test = train_test_split(X, Y, test_size=0.2, random_state=1)"
   ]
  },
  {
   "cell_type": "markdown",
   "metadata": {},
   "source": [
    "# 4g.    Multiple Models Application - Example"
   ]
  },
  {
   "cell_type": "markdown",
   "metadata": {},
   "source": [
    "# Logistic Regression"
   ]
  },
  {
   "cell_type": "code",
   "execution_count": 21,
   "metadata": {},
   "outputs": [
    {
     "name": "stdout",
     "output_type": "stream",
     "text": [
      "Accuracy Score of Logistic Regression is: 0.645329\n"
     ]
    }
   ],
   "source": [
    "from sklearn import linear_model\n",
    "from sklearn.linear_model import LogisticRegression\n",
    "\n",
    "#Set up Logistic Regression\n",
    "######Note: You can decide to use the default setting\n",
    "#####Logreg_setup= LogisticRegression()\n",
    "Logreg_setup= LogisticRegression(penalty='l2', solver='newton-cg', random_state=0, multi_class='multinomial')\n",
    "\n",
    "# fit the model with data\n",
    "Logreg_model=Logreg_setup.fit(x_train, y_train)\n",
    "\n",
    "#Test model performance\n",
    "Logreg_pred=Logreg_setup.predict(x_test)\n",
    "\n",
    "#Evaluate the Model performance,\n",
    "\n",
    "Logreg_ascore=sklearn.metrics.accuracy_score(y_test, Logreg_pred)\n",
    "\n",
    "print (\"Accuracy Score of Logistic Regression is: %f\" %(Logreg_ascore))"
   ]
  },
  {
   "cell_type": "markdown",
   "metadata": {},
   "source": [
    "# * Student Assignment *"
   ]
  },
  {
   "cell_type": "markdown",
   "metadata": {},
   "source": [
    "# 5. Assignment Guidelines:\n",
    "  \n",
    "    1.\tTake 70% of the data as training at random and the rest of the data set aside as test data.\n",
    "    2.\tNow train the following models on the 70% of the data and test on the remaining test data.\n",
    "            a)\tLogistic Regression (Completed by me, with 80% training dataset, change yours to 70%)\n",
    "            b)\tSupport Vector Machine\n",
    "            c)\tDecision Tree \n",
    "            d)\tRandom Forest\n",
    "    3.\tCompare performance of the four models: which one has higher accuracy on the training and test sets?\n",
    "    4.\tMake a short conclusion(s)/recommendation(s).\n"
   ]
  },
  {
   "cell_type": "markdown",
   "metadata": {},
   "source": [
    "# 4g.    Multiple Models Application"
   ]
  },
  {
   "cell_type": "markdown",
   "metadata": {},
   "source": [
    "# Solution to Question 1: Take 70% of the data as training at random and the rest of the data set aside as test data."
   ]
  },
  {
   "cell_type": "code",
   "execution_count": 22,
   "metadata": {},
   "outputs": [],
   "source": [
    "x_train, x_test, y_train, y_test = train_test_split(X, Y, test_size=0.3, random_state=1)"
   ]
  },
  {
   "cell_type": "markdown",
   "metadata": {},
   "source": [
    "# Solution to Question 2: Now train the following models on the 70% of the data and test on the remaining test data."
   ]
  },
  {
   "cell_type": "markdown",
   "metadata": {},
   "source": [
    "# a) Logistic Regression\n"
   ]
  },
  {
   "cell_type": "code",
   "execution_count": 23,
   "metadata": {},
   "outputs": [
    {
     "name": "stdout",
     "output_type": "stream",
     "text": [
      "Accuracy Score of Logistic Regression is: 0.646235\n"
     ]
    }
   ],
   "source": [
    "from sklearn import linear_model\n",
    "from sklearn.linear_model import LogisticRegression\n",
    "\n",
    "Logreg_setup= LogisticRegression(penalty='l2', solver='newton-cg', random_state=0, multi_class='multinomial')\n",
    "Logreg_model=Logreg_setup.fit(x_train, y_train)\n",
    "Logreg_pred=Logreg_setup.predict(x_test)\n",
    "Logreg_ascore=sklearn.metrics.accuracy_score(y_test, Logreg_pred)\n",
    "\n",
    "print (\"Accuracy Score of Logistic Regression is: %f\" %(Logreg_ascore))"
   ]
  },
  {
   "cell_type": "markdown",
   "metadata": {},
   "source": [
    "# b) Support Vector Machine\n"
   ]
  },
  {
   "cell_type": "code",
   "execution_count": 24,
   "metadata": {},
   "outputs": [
    {
     "name": "stdout",
     "output_type": "stream",
     "text": [
      "Accuracy Score of Logistic Regression is: 0.631570\n"
     ]
    }
   ],
   "source": [
    "from sklearn import svm\n",
    "from sklearn import metrics\n",
    "linear_svm_setup = svm.LinearSVC(random_state = 0)\n",
    "linear_svm_model = linear_svm_setup.fit(x_train, y_train)\n",
    "linear_svm_pred = linear_svm_model.predict(x_test)\n",
    "linear_svm_ascore = metrics.accuracy_score(y_test, linear_svm_pred)\n",
    "print (\"Accuracy Score of Logistic Regression is: %f\" %(linear_svm_ascore))"
   ]
  },
  {
   "cell_type": "markdown",
   "metadata": {},
   "source": [
    "# c) Decision Tree \n"
   ]
  },
  {
   "cell_type": "code",
   "execution_count": 26,
   "metadata": {},
   "outputs": [
    {
     "name": "stdout",
     "output_type": "stream",
     "text": [
      "Accuracy Score of the Decision Tree is: 0.532213\n"
     ]
    }
   ],
   "source": [
    "from sklearn.tree import DecisionTreeClassifier\n",
    "\n",
    "dt_setup = DecisionTreeClassifier()\n",
    "dt_model = dt_setup.fit(x_train, y_train)\n",
    "dt_pred = dt_setup.predict(x_test)\n",
    "dt_ascore = sklearn.metrics.accuracy_score(y_test,dt_pred)\n",
    "\n",
    "print (\"Accuracy Score of the Decision Tree is: %f\" %(dt_ascore))"
   ]
  },
  {
   "cell_type": "markdown",
   "metadata": {},
   "source": [
    "# d) Random Forest "
   ]
  },
  {
   "cell_type": "code",
   "execution_count": null,
   "metadata": {},
   "outputs": [],
   "source": [
    "from sklearn.ensemble import RandomForestClassifier\n",
    "\n",
    "rfc_setup = RandomForestClassifier()\n",
    "rfc_model = rfc_setup.fit(x_train,y_train)\n",
    "rfc_pred = rfc_setup.predict(x_test)\n",
    "rfc_ascore = sklearn.metrics.accuracy_score(y_test,rfc_pred)\n",
    "\n",
    "print (\"Accuracy Score of the Random Forect Classifier is: %f\" %(rfc_ascore))"
   ]
  },
  {
   "cell_type": "markdown",
   "metadata": {},
   "source": [
    "# Solution to Question 3: Compare performance of the four models: which one has higher accuracy on the training and test sets?"
   ]
  },
  {
   "cell_type": "code",
   "execution_count": null,
   "metadata": {},
   "outputs": [],
   "source": [
    "Logistic Regression"
   ]
  },
  {
   "cell_type": "markdown",
   "metadata": {},
   "source": [
    "# 6. Conclusions and Recommendations"
   ]
  },
  {
   "cell_type": "code",
   "execution_count": null,
   "metadata": {},
   "outputs": [],
   "source": [
    "While the logistic regression has a higher accuracy, it isn't by much. Especially when considering that the vector model is 0.04665 off of that model."
   ]
  }
 ],
 "metadata": {
  "coursera": {
   "schema_names": [
    "NLPC1-1"
   ]
  },
  "kernelspec": {
   "display_name": "Python 3",
   "language": "python",
   "name": "python3"
  },
  "language_info": {
   "codemirror_mode": {
    "name": "ipython",
    "version": 3
   },
   "file_extension": ".py",
   "mimetype": "text/x-python",
   "name": "python",
   "nbconvert_exporter": "python",
   "pygments_lexer": "ipython3",
   "version": "3.8.3"
  }
 },
 "nbformat": 4,
 "nbformat_minor": 2
}
